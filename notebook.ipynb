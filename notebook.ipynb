{
  "cells": [
    {
      "cell_type": "markdown",
      "metadata": {
        "id": "cP5zh7Ww85Fm"
      },
      "source": [
        "# Proyek Analisis Data: E-Commerce Public Dataset\n",
        "- **Nama:** Wildan Rahmantya Andalaluna\n",
        "- **Email:** wildanandalaluna@gmail.com\n",
        "- **ID Dicoding:** wra305"
      ]
    },
    {
      "cell_type": "markdown",
      "metadata": {
        "id": "ggwOFmpI88dG"
      },
      "source": [
        "## Menentukan Pertanyaan Bisnis"
      ]
    },
    {
      "cell_type": "markdown",
      "metadata": {
        "id": "6irqmTtg8-IC"
      },
      "source": [
        "- Produk Apa Saja yang Memiliki Pertumbuhan Penjualan Tercepat?\n",
        "- Bagaimana performa penjualan pada platform E-Commerce ?\n",
        "- Apakah ada tren penjualan yang lebih tinggi pada hari tertentu atau waktu tertentu?\n",
        "- Di mana lokasi geografis dengan jumlah pelanggan terbanyak?"
      ]
    },
    {
      "cell_type": "markdown",
      "metadata": {
        "id": "EueHsNk89AsY"
      },
      "source": [
        "## Menyiapkan semua library yang dibuthkan"
      ]
    },
    {
      "cell_type": "code",
      "execution_count": null,
      "metadata": {
        "colab": {
          "base_uri": "https://localhost:8080/"
        },
        "id": "4cmWv4qc8xWu",
        "outputId": "507f8737-6438-441f-c5ad-f6bf062c9ec7"
      },
      "outputs": [
        {
          "ename": "",
          "evalue": "",
          "output_type": "error",
          "traceback": [
            "\u001b[1;31mRunning cells with 'Python 3.11.8' requires the ipykernel package.\n",
            "\u001b[1;31mRun the following command to install 'ipykernel' into the Python environment. \n",
            "\u001b[1;31mCommand: 'd:/Codedata/python311/python.exe -m pip install ipykernel -U --user --force-reinstall'"
          ]
        }
      ],
      "source": [
        "import numpy as np\n",
        "import pandas as pd\n",
        "import matplotlib.pyplot as plt\n",
        "import seaborn as sns\n",
        "import urllib\n",
        "!pip install unidecode\n",
        "import unidecode\n",
        "import matplotlib.image as mpimg"
      ]
    },
    {
      "cell_type": "markdown",
      "metadata": {
        "id": "7DwSpkkZ9BqV"
      },
      "source": [
        "## Data Wrangling"
      ]
    },
    {
      "cell_type": "markdown",
      "metadata": {
        "id": "ZuJuLGxe9D9O"
      },
      "source": [
        "### Gathering Data"
      ]
    },
    {
      "cell_type": "code",
      "execution_count": null,
      "metadata": {
        "colab": {
          "base_uri": "https://localhost:8080/",
          "height": 261
        },
        "id": "Rg3wtvOr9DUm",
        "outputId": "92091e66-d9f6-4355-c131-bc150c670aa5"
      },
      "outputs": [],
      "source": [
        "customers_df = pd.read_csv('data/customers_dataset.csv')\n",
        "customers_df.head()"
      ]
    },
    {
      "cell_type": "code",
      "execution_count": null,
      "metadata": {
        "colab": {
          "base_uri": "https://localhost:8080/",
          "height": 206
        },
        "id": "HR1UjVO-jwjy",
        "outputId": "e66d2d03-3938-41d5-bb01-3033ad308904"
      },
      "outputs": [],
      "source": [
        "geo_df = pd.read_csv('data/geolocation_dataset.csv')\n",
        "geo_df.head()"
      ]
    },
    {
      "cell_type": "code",
      "execution_count": null,
      "metadata": {
        "colab": {
          "base_uri": "https://localhost:8080/",
          "height": 226
        },
        "id": "uBkQbXn7j4Ia",
        "outputId": "f642fea5-094e-47be-a326-826ca4fcc8ef"
      },
      "outputs": [],
      "source": [
        "order_items = pd.read_csv('data/order_items_dataset.csv')\n",
        "order_items.head()"
      ]
    },
    {
      "cell_type": "code",
      "execution_count": null,
      "metadata": {
        "colab": {
          "base_uri": "https://localhost:8080/",
          "height": 206
        },
        "id": "db2ruIYYkCHP",
        "outputId": "e2839f50-d549-443f-847d-ba1242908dc4"
      },
      "outputs": [],
      "source": [
        "order_pay = pd.read_csv('data/order_payments_dataset.csv')\n",
        "order_pay.head()"
      ]
    },
    {
      "cell_type": "code",
      "execution_count": null,
      "metadata": {
        "colab": {
          "base_uri": "https://localhost:8080/",
          "height": 261
        },
        "id": "40ATyq4AkIoU",
        "outputId": "ec50fa26-e75c-43ea-f4cd-94c3e095bf1d"
      },
      "outputs": [],
      "source": [
        "order_rev = pd.read_csv('data/order_reviews_dataset.csv')\n",
        "order_rev.head()"
      ]
    },
    {
      "cell_type": "code",
      "execution_count": null,
      "metadata": {
        "colab": {
          "base_uri": "https://localhost:8080/",
          "height": 226
        },
        "id": "pc66NhWNkaS3",
        "outputId": "07f335ed-9661-4891-b3da-c5620f949f5e"
      },
      "outputs": [],
      "source": [
        "orders_df = pd.read_csv('data/orders_dataset.csv')\n",
        "orders_df.head()"
      ]
    },
    {
      "cell_type": "code",
      "execution_count": null,
      "metadata": {
        "colab": {
          "base_uri": "https://localhost:8080/",
          "height": 206
        },
        "id": "cRPhlboTkl1_",
        "outputId": "e02dc7ee-371a-44a3-c274-e46c874200e1"
      },
      "outputs": [],
      "source": [
        "product_cat = pd.read_csv('data/product_category_name_translation.csv')\n",
        "product_cat.head()"
      ]
    },
    {
      "cell_type": "code",
      "execution_count": null,
      "metadata": {
        "colab": {
          "base_uri": "https://localhost:8080/",
          "height": 226
        },
        "id": "EcvyimbJkrxe",
        "outputId": "2fd7b377-49df-43b4-c83a-bb0e1b069eeb"
      },
      "outputs": [],
      "source": [
        "products_df = pd.read_csv('data/products_dataset.csv')\n",
        "products_df.head()"
      ]
    },
    {
      "cell_type": "code",
      "execution_count": null,
      "metadata": {
        "colab": {
          "base_uri": "https://localhost:8080/",
          "height": 206
        },
        "id": "ij_06pvrkyGb",
        "outputId": "e3e62302-9dcc-4104-9b07-848db727c752"
      },
      "outputs": [],
      "source": [
        "sellers_df = pd.read_csv('data/sellers_dataset.csv')\n",
        "sellers_df.head()"
      ]
    },
    {
      "cell_type": "markdown",
      "metadata": {
        "id": "BvZAfrSH9F2U"
      },
      "source": [
        "### Assessing Data\n",
        "*Menilai Data*"
      ]
    },
    {
      "cell_type": "code",
      "execution_count": null,
      "metadata": {
        "colab": {
          "base_uri": "https://localhost:8080/"
        },
        "id": "mHqrZF_RkJuQ",
        "outputId": "3833a501-9f30-4b00-9c5e-a2d3bf33d728"
      },
      "outputs": [],
      "source": [
        "# Function to display info, null values, duplicate entries, and summary stats for each DataFrame\n",
        "def assess_dataframe(df, name):\n",
        "    print(f\"\\n### {name} DataFrame ###\")\n",
        "    print(f\"\\nInfo for {name}:\")\n",
        "    print(df.info())\n",
        "\n",
        "    print(f\"\\nNull values in {name}:\\n{df.isnull().sum()}\")\n",
        "\n",
        "    print(f\"\\nDuplicate entries in {name}: {df.duplicated().sum()}\")\n",
        "\n",
        "    print(f\"\\nSummary statistics for {name}:\\n{df.describe(include='all')}\")\n",
        "    print(\"\\n\" + \"-\"*50 + \"\\n\")\n",
        "\n",
        "\n",
        "# List of DataFrames to assess\n",
        "dataframes = {\n",
        "    \"Customers\": customers_df,\n",
        "    \"Geolocation\": geo_df,\n",
        "    \"Order Items\": order_items,\n",
        "    \"Order Payments\": order_pay,\n",
        "    \"Order Reviews\": order_rev,\n",
        "    \"Orders\": orders_df,\n",
        "    \"Product Categories\": product_cat,\n",
        "    \"Products\": products_df,\n",
        "    \"Sellers\": sellers_df\n",
        "}\n",
        "\n",
        "# Loop through and assess each DataFrame\n",
        "for name, df in dataframes.items():\n",
        "    assess_dataframe(df, name)\n",
        "\n",
        "# Display geolocation info separately\n",
        "print(\"\\nAdditional Info for Geolocation DataFrame:\")\n",
        "geo_df.info()\n"
      ]
    },
    {
      "cell_type": "markdown",
      "metadata": {
        "id": "Uz5dgcJm9HW5"
      },
      "source": [
        "### Cleaning Data"
      ]
    },
    {
      "cell_type": "code",
      "execution_count": null,
      "metadata": {
        "colab": {
          "base_uri": "https://localhost:8080/",
          "height": 513
        },
        "id": "CCszTdXD9Ivf",
        "outputId": "d1cad23e-ba07-4ff1-fc81-08c8dcacdc8f"
      },
      "outputs": [],
      "source": [
        "order_rev[order_rev.review_comment_title.isna()]\n"
      ]
    },
    {
      "cell_type": "code",
      "execution_count": null,
      "metadata": {
        "colab": {
          "base_uri": "https://localhost:8080/",
          "height": 490
        },
        "id": "nbPtTP3Dn860",
        "outputId": "9b799a44-3990-4d76-fc9c-a05b669d4328"
      },
      "outputs": [],
      "source": [
        "order_rev.review_comment_title.value_counts()\n"
      ]
    },
    {
      "cell_type": "code",
      "execution_count": null,
      "metadata": {
        "colab": {
          "base_uri": "https://localhost:8080/",
          "height": 444
        },
        "id": "IjDS9T5yoA6E",
        "outputId": "caebd419-12b0-40e6-d5f0-abb1bc2e6a9f"
      },
      "outputs": [],
      "source": [
        "order_rev[order_rev.review_comment_message.isna()]\n"
      ]
    },
    {
      "cell_type": "code",
      "execution_count": null,
      "metadata": {
        "colab": {
          "base_uri": "https://localhost:8080/",
          "height": 507
        },
        "id": "IxiOxRyloHCu",
        "outputId": "f8de03d5-2b39-4893-cfdc-bbdcb3377885"
      },
      "outputs": [],
      "source": [
        "order_rev.review_comment_message.value_counts()\n"
      ]
    },
    {
      "cell_type": "code",
      "execution_count": 741,
      "metadata": {
        "id": "747XUIoCoMB4"
      },
      "outputs": [],
      "source": [
        "order_rev.fillna(value=\"no comment\", inplace=True)\n"
      ]
    },
    {
      "cell_type": "code",
      "execution_count": null,
      "metadata": {
        "colab": {
          "base_uri": "https://localhost:8080/",
          "height": 444
        },
        "id": "6Qxgf6MZoNwZ",
        "outputId": "ee0e0b27-c4ed-4914-b1a6-12d36fb8bbf5"
      },
      "outputs": [],
      "source": [
        "orders_df[orders_df.order_approved_at.isna()]\n"
      ]
    },
    {
      "cell_type": "code",
      "execution_count": 743,
      "metadata": {
        "id": "TXNnnnNaoW9e"
      },
      "outputs": [],
      "source": [
        "datetime_oi = [\"shipping_limit_date\"]\n",
        "\n",
        "for column in datetime_oi:\n",
        "  order_items[column] = pd.to_datetime(order_items[column])"
      ]
    },
    {
      "cell_type": "code",
      "execution_count": 744,
      "metadata": {
        "id": "7kWmVducoch0"
      },
      "outputs": [],
      "source": [
        "datetime_or = [\"review_creation_date\",\"review_answer_timestamp\"]\n",
        "\n",
        "for column in datetime_or:\n",
        "  order_rev[column] = pd.to_datetime(order_rev[column])"
      ]
    },
    {
      "cell_type": "code",
      "execution_count": 745,
      "metadata": {
        "id": "gsHqhUREoeiq"
      },
      "outputs": [],
      "source": [
        "datetime_oo = [\"order_purchase_timestamp\",\"order_approved_at\",\"order_delivered_carrier_date\",\"order_delivered_customer_date\",\"order_estimated_delivery_date\"]\n",
        "\n",
        "for column in datetime_oo:\n",
        "  orders_df[column] = pd.to_datetime(orders_df[column])\n"
      ]
    },
    {
      "cell_type": "code",
      "execution_count": null,
      "metadata": {
        "colab": {
          "base_uri": "https://localhost:8080/"
        },
        "id": "1KUviiEOoibs",
        "outputId": "1b0048f7-ec94-4b11-e643-78ad1fe510c2"
      },
      "outputs": [],
      "source": [
        "order_items.info()\n"
      ]
    },
    {
      "cell_type": "code",
      "execution_count": null,
      "metadata": {
        "colab": {
          "base_uri": "https://localhost:8080/"
        },
        "id": "fCVU-PXconjg",
        "outputId": "5951e735-a922-4bb4-ceb0-79d7bc5034e5"
      },
      "outputs": [],
      "source": [
        "order_rev.info()\n"
      ]
    },
    {
      "cell_type": "code",
      "execution_count": null,
      "metadata": {
        "colab": {
          "base_uri": "https://localhost:8080/"
        },
        "id": "4Py6ezEDowXS",
        "outputId": "40b586fb-f2d9-4d37-b287-4ca980569bef"
      },
      "outputs": [],
      "source": [
        "orders_df.info()\n"
      ]
    },
    {
      "cell_type": "markdown",
      "metadata": {
        "id": "EyPJaCDm9KFb"
      },
      "source": [
        "## Exploratory Data Analysis (EDA)"
      ]
    },
    {
      "cell_type": "markdown",
      "metadata": {
        "id": "hxgJ6qd69Mce"
      },
      "source": [
        "### Explore **customers_df**"
      ]
    },
    {
      "cell_type": "code",
      "execution_count": null,
      "metadata": {
        "colab": {
          "base_uri": "https://localhost:8080/",
          "height": 244
        },
        "id": "Xo68yguo9LTl",
        "outputId": "ec4fb515-4a6b-4ac7-fc51-d5b38b5f46be"
      },
      "outputs": [],
      "source": [
        "customers_df.sample(5)\n"
      ]
    },
    {
      "cell_type": "code",
      "execution_count": null,
      "metadata": {
        "colab": {
          "base_uri": "https://localhost:8080/",
          "height": 414
        },
        "id": "_5sU-KL5pFF-",
        "outputId": "7576493a-15ed-4a03-fda0-4ff626660b6a"
      },
      "outputs": [],
      "source": [
        "customers_df.describe(include='all')\n"
      ]
    },
    {
      "cell_type": "code",
      "execution_count": null,
      "metadata": {
        "colab": {
          "base_uri": "https://localhost:8080/"
        },
        "id": "SYFG2Vw1pMhH",
        "outputId": "ff2013a6-a514-4cf4-8d3a-c1aefab967db"
      },
      "outputs": [],
      "source": [
        "customers_df.customer_id.is_unique\n"
      ]
    },
    {
      "cell_type": "code",
      "execution_count": null,
      "metadata": {
        "colab": {
          "base_uri": "https://localhost:8080/"
        },
        "id": "0sbSEPNlpQHD",
        "outputId": "8dca94ef-eeac-4e82-90c4-7e566699f681"
      },
      "outputs": [],
      "source": [
        "# Memeriksa nilai yang duplikat pada kolom 'customer_id' di DataFrame 'customers_df'\n",
        "duplicated_customers = customers_df.customer_id.duplicated()\n",
        "\n",
        "# Menampilkan hasil\n",
        "print(duplicated_customers)\n"
      ]
    },
    {
      "cell_type": "code",
      "execution_count": null,
      "metadata": {
        "colab": {
          "base_uri": "https://localhost:8080/",
          "height": 490
        },
        "id": "CPz_gAR5pTAG",
        "outputId": "bf1cd2e2-6a53-42c6-9b25-d8c8e6b5ed05"
      },
      "outputs": [],
      "source": [
        "customers_df.groupby(by=\"customer_city\").customer_id.nunique().sort_values(ascending=False)\n"
      ]
    },
    {
      "cell_type": "code",
      "execution_count": null,
      "metadata": {
        "colab": {
          "base_uri": "https://localhost:8080/",
          "height": 962
        },
        "id": "FsJNoDq9pZrG",
        "outputId": "773f4cb4-e39c-43ff-ab0f-f2c690ef5b1e"
      },
      "outputs": [],
      "source": [
        "customers_df.groupby(by=\"customer_state\").customer_id.nunique().sort_values(ascending=False)\n"
      ]
    },
    {
      "cell_type": "code",
      "execution_count": null,
      "metadata": {
        "colab": {
          "base_uri": "https://localhost:8080/",
          "height": 206
        },
        "id": "Bu3V8oQVplzv",
        "outputId": "fdeaf6ad-28f0-49db-c368-89926c6d5cda"
      },
      "outputs": [],
      "source": [
        "order_pay.sample(5)\n"
      ]
    },
    {
      "cell_type": "code",
      "execution_count": null,
      "metadata": {
        "colab": {
          "base_uri": "https://localhost:8080/",
          "height": 394
        },
        "id": "G7aG6W1rpsty",
        "outputId": "d31ef01f-081d-4ded-8bde-9380966b042b"
      },
      "outputs": [],
      "source": [
        "order_pay.describe(include='all')\n"
      ]
    },
    {
      "cell_type": "code",
      "execution_count": null,
      "metadata": {
        "colab": {
          "base_uri": "https://localhost:8080/",
          "height": 272
        },
        "id": "0mxfK2O2pyI9",
        "outputId": "5d976033-b693-4c28-827d-7b7867d9af28"
      },
      "outputs": [],
      "source": [
        "order_pay.groupby(by=\"payment_type\").order_id.nunique().sort_values(ascending=False)\n"
      ]
    },
    {
      "cell_type": "code",
      "execution_count": null,
      "metadata": {
        "colab": {
          "base_uri": "https://localhost:8080/",
          "height": 226
        },
        "id": "YpHk3ApEp00K",
        "outputId": "c1044b06-c39e-46bf-a103-b962bc579f0b"
      },
      "outputs": [],
      "source": [
        "orders_df.sample(5)\n"
      ]
    },
    {
      "cell_type": "code",
      "execution_count": 759,
      "metadata": {
        "id": "ashflo0Hp4ov"
      },
      "outputs": [],
      "source": [
        "delivery_time = orders_df[\"order_delivered_customer_date\"] - orders_df[\"order_delivered_carrier_date\"]\n",
        "delivery_time = delivery_time.apply(lambda x: x.total_seconds())\n",
        "orders_df[\"delivery_time\"] = round(delivery_time/86400)"
      ]
    },
    {
      "cell_type": "code",
      "execution_count": null,
      "metadata": {
        "colab": {
          "base_uri": "https://localhost:8080/",
          "height": 226
        },
        "id": "JtpT-CYBp_E3",
        "outputId": "e3d1751c-2085-45ed-e8df-23e9334b3733"
      },
      "outputs": [],
      "source": [
        "orders_df.sample(5)\n"
      ]
    },
    {
      "cell_type": "code",
      "execution_count": null,
      "metadata": {
        "colab": {
          "base_uri": "https://localhost:8080/",
          "height": 451
        },
        "id": "7BE1TUl-p-zP",
        "outputId": "bfdd9282-728d-44b0-f8ec-d22f50602e6c"
      },
      "outputs": [],
      "source": [
        "orders_df.delivery_time.hist()\n"
      ]
    },
    {
      "cell_type": "code",
      "execution_count": null,
      "metadata": {
        "colab": {
          "base_uri": "https://localhost:8080/",
          "height": 244
        },
        "id": "JpyjM6dtqJSg",
        "outputId": "b9d3557f-01d1-432a-dfdc-5412eca1ddac"
      },
      "outputs": [],
      "source": [
        "customer_id_in_orders_df = orders_df.customer_id.values\n",
        "\n",
        "customers_df[\"status\"] = customers_df[\"customer_id\"].apply(lambda x: \"Active\" if x in customer_id_in_orders_df else \"Non Active\")\n",
        "\n",
        "customers_df.sample(5)"
      ]
    },
    {
      "cell_type": "code",
      "execution_count": null,
      "metadata": {
        "colab": {
          "base_uri": "https://localhost:8080/",
          "height": 147
        },
        "id": "4ZQxvTNysqG5",
        "outputId": "0194589b-4b88-4701-c3cf-aacd5e29ba3c"
      },
      "outputs": [],
      "source": [
        "customers_df.groupby(by=\"status\").customer_id.count()\n"
      ]
    },
    {
      "cell_type": "markdown",
      "metadata": {
        "id": "1yTtaPYOun1R"
      },
      "source": [
        "Merge customers_df & orders_df"
      ]
    },
    {
      "cell_type": "code",
      "execution_count": null,
      "metadata": {
        "colab": {
          "base_uri": "https://localhost:8080/",
          "height": 261
        },
        "id": "yWuxegOcu9u5",
        "outputId": "3c5ba60c-4160-4960-fc31-6014c03a2e66"
      },
      "outputs": [],
      "source": [
        "cust_orders_df = pd.merge(\n",
        "    left=customers_df,\n",
        "    right=orders_df,\n",
        "    how=\"left\",\n",
        "    left_on=\"customer_id\",\n",
        "    right_on=\"customer_id\"\n",
        ")\n",
        "cust_orders_df.head()\n"
      ]
    },
    {
      "cell_type": "code",
      "execution_count": null,
      "metadata": {
        "colab": {
          "base_uri": "https://localhost:8080/",
          "height": 429
        },
        "id": "5V1PNcS3vB0e",
        "outputId": "d2e8e36c-baf6-4c09-c1d1-af3776049633"
      },
      "outputs": [],
      "source": [
        "cust_orders_df.groupby(by=\"customer_city\").order_id.nunique().sort_values(ascending=False).head(10)\n"
      ]
    },
    {
      "cell_type": "code",
      "execution_count": null,
      "metadata": {
        "colab": {
          "base_uri": "https://localhost:8080/",
          "height": 429
        },
        "id": "OletLop1vKFe",
        "outputId": "c29ebd96-65da-4877-d1ac-93cba0f445fe"
      },
      "outputs": [],
      "source": [
        "cust_orders_df.groupby(by=\"customer_state\").order_id.nunique().sort_values(ascending=False).head(10)\n"
      ]
    },
    {
      "cell_type": "code",
      "execution_count": null,
      "metadata": {
        "colab": {
          "base_uri": "https://localhost:8080/",
          "height": 429
        },
        "id": "pkCcEw0uvJzp",
        "outputId": "7b27c55d-c70f-4e7d-f436-7c502808225e"
      },
      "outputs": [],
      "source": [
        "cust_orders_df.groupby(by=\"customer_zip_code_prefix\").order_id.nunique().sort_values(ascending=False).head(10)\n"
      ]
    },
    {
      "cell_type": "code",
      "execution_count": null,
      "metadata": {
        "colab": {
          "base_uri": "https://localhost:8080/",
          "height": 366
        },
        "id": "xuiPw0WevJgV",
        "outputId": "a401517a-5407-4d2f-e05b-a82b409020c1"
      },
      "outputs": [],
      "source": [
        "cust_orders_df.groupby(by=\"order_status\").order_id.nunique().sort_values(ascending=False).head(10)\n"
      ]
    },
    {
      "cell_type": "markdown",
      "metadata": {
        "id": "HNWITQz4xeRe"
      },
      "source": [
        "**Merge order_pay & order_rev**"
      ]
    },
    {
      "cell_type": "code",
      "execution_count": null,
      "metadata": {
        "colab": {
          "base_uri": "https://localhost:8080/",
          "height": 261
        },
        "id": "RdO5tCxTxpQJ",
        "outputId": "24981df4-98cd-4170-9986-40383485cf2c"
      },
      "outputs": [],
      "source": [
        "order_payrev_df = pd.merge(\n",
        "    left=order_pay,\n",
        "    right=order_rev,\n",
        "    how=\"left\",\n",
        "    left_on=\"order_id\",\n",
        "    right_on=\"order_id\"\n",
        ")\n",
        "order_payrev_df.head()\n"
      ]
    },
    {
      "cell_type": "code",
      "execution_count": null,
      "metadata": {
        "colab": {
          "base_uri": "https://localhost:8080/",
          "height": 272
        },
        "id": "GYMh3INsxzOG",
        "outputId": "3696207d-6d38-4111-f8f6-9595b7e3cece"
      },
      "outputs": [],
      "source": [
        "order_payrev_df.groupby(by=\"payment_type\").order_id.nunique().sort_values(ascending=False).head(10)\n"
      ]
    },
    {
      "cell_type": "code",
      "execution_count": null,
      "metadata": {
        "colab": {
          "base_uri": "https://localhost:8080/",
          "height": 600
        },
        "id": "nOkqgjhlMoXX",
        "outputId": "5d437735-22e0-4afc-b198-157f10b55419"
      },
      "outputs": [],
      "source": [
        "order_payrev_df.sort_values(by=\"payment_value\", ascending=False)"
      ]
    },
    {
      "cell_type": "code",
      "execution_count": null,
      "metadata": {
        "colab": {
          "base_uri": "https://localhost:8080/",
          "height": 269
        },
        "id": "jzckvSIxMoXo",
        "outputId": "c73093d6-601e-4d1f-a654-fb2a67b7d18d"
      },
      "outputs": [],
      "source": [
        "order_payrev_df.groupby(by=\"payment_type\").agg({\n",
        "    \"order_id\": \"nunique\",\n",
        "    \"payment_value\":  [\"min\", \"max\"]\n",
        "})"
      ]
    },
    {
      "cell_type": "markdown",
      "metadata": {
        "id": "zhAa3mq8MoYN"
      },
      "source": [
        "#### Merge cust_orders_df & order_payrev"
      ]
    },
    {
      "cell_type": "code",
      "execution_count": null,
      "metadata": {
        "colab": {
          "base_uri": "https://localhost:8080/",
          "height": 308
        },
        "id": "j-XLXYcXMoYO",
        "outputId": "7bfd90d0-2f48-4cf4-df7a-aa4465cb4f5e"
      },
      "outputs": [],
      "source": [
        "customers_df = pd.merge(\n",
        "    left=cust_orders_df,\n",
        "    right=order_payrev_df,\n",
        "    how=\"left\",\n",
        "    left_on=\"order_id\",\n",
        "    right_on=\"order_id\"\n",
        ")\n",
        "customers_df.head()"
      ]
    },
    {
      "cell_type": "markdown",
      "metadata": {
        "id": "2ruUjfebMoYO"
      },
      "source": [
        "### Explore order_items & sellers_df"
      ]
    },
    {
      "cell_type": "markdown",
      "metadata": {
        "id": "v8IuAQi-MoYm"
      },
      "source": [
        "#### Merge order_items & sellers_df"
      ]
    },
    {
      "cell_type": "code",
      "execution_count": null,
      "metadata": {
        "colab": {
          "base_uri": "https://localhost:8080/",
          "height": 261
        },
        "id": "H99asvjsMoYx",
        "outputId": "39e0685a-e820-4e57-f3b2-559868d435ad"
      },
      "outputs": [],
      "source": [
        "item_seller_df = pd.merge(\n",
        "    left=order_items,\n",
        "    right=sellers_df,\n",
        "    how=\"left\",\n",
        "    left_on=\"seller_id\",\n",
        "    right_on=\"seller_id\"\n",
        ")\n",
        "item_seller_df.head()"
      ]
    },
    {
      "cell_type": "code",
      "execution_count": null,
      "metadata": {
        "colab": {
          "base_uri": "https://localhost:8080/",
          "height": 429
        },
        "id": "0FcL9Z8qMoZD",
        "outputId": "93a9ce90-3f44-4c7d-e408-6ec786861ca5"
      },
      "outputs": [],
      "source": [
        "item_seller_df.groupby(by=\"seller_city\").seller_id.nunique().sort_values(ascending=False).head(10)"
      ]
    },
    {
      "cell_type": "markdown",
      "metadata": {
        "id": "l1Ov-fJsMoZI"
      },
      "source": [
        "### Explore products_df & product_cat\n",
        "#### Merge products_df & product_cat"
      ]
    },
    {
      "cell_type": "code",
      "execution_count": null,
      "metadata": {
        "colab": {
          "base_uri": "https://localhost:8080/",
          "height": 226
        },
        "id": "iNfChkCgMoZI",
        "outputId": "daa781f7-156b-497f-b69e-afc39723afc6"
      },
      "outputs": [],
      "source": [
        "product_df = pd.merge(\n",
        "    left=products_df,\n",
        "    right=product_cat,\n",
        "    how=\"left\",\n",
        "    left_on=\"product_category_name\",\n",
        "    right_on=\"product_category_name\"\n",
        ")\n",
        "product_df.head()"
      ]
    },
    {
      "cell_type": "code",
      "execution_count": null,
      "metadata": {
        "colab": {
          "base_uri": "https://localhost:8080/",
          "height": 429
        },
        "id": "DdhBwbUMMoZJ",
        "outputId": "d827a999-3fca-45ae-8e55-5b1ba5dcba1f"
      },
      "outputs": [],
      "source": [
        "product_df.groupby(by=\"product_category_name\").product_id.nunique().sort_values(ascending=False).head(10)"
      ]
    },
    {
      "cell_type": "code",
      "execution_count": null,
      "metadata": {
        "colab": {
          "base_uri": "https://localhost:8080/",
          "height": 429
        },
        "id": "AcPCInGVMoZK",
        "outputId": "d9f19a7c-9620-474b-8b10-ffae6fc85a44"
      },
      "outputs": [],
      "source": [
        "product_df.groupby(by=\"product_category_name_english\").product_id.nunique().sort_values(ascending=False).head(10)"
      ]
    },
    {
      "cell_type": "markdown",
      "metadata": {
        "id": "rw62qYaCMoZh"
      },
      "source": [
        "#### Merge item_seller_df & product_df"
      ]
    },
    {
      "cell_type": "code",
      "execution_count": null,
      "metadata": {
        "colab": {
          "base_uri": "https://localhost:8080/",
          "height": 226
        },
        "id": "RTzVAUmfMoZ9",
        "outputId": "448d0e5f-3776-40e6-cdca-e7232fc6f9a0"
      },
      "outputs": [],
      "source": [
        "sellers_df = pd.merge(\n",
        "    left=product_df,\n",
        "    right=item_seller_df,\n",
        "    how=\"left\",\n",
        "    left_on=\"product_id\",\n",
        "    right_on=\"product_id\"\n",
        ")\n",
        "sellers_df.head()"
      ]
    },
    {
      "cell_type": "code",
      "execution_count": null,
      "metadata": {
        "colab": {
          "base_uri": "https://localhost:8080/",
          "height": 444
        },
        "id": "hSVSuaIkMoZ-",
        "outputId": "8e62718d-ee18-49df-dd83-31785bcc165a"
      },
      "outputs": [],
      "source": [
        "sellers_df.sort_values(by=\"price\", ascending=False)"
      ]
    },
    {
      "cell_type": "code",
      "execution_count": 793,
      "metadata": {
        "id": "yoUjSdkeMoa0"
      },
      "outputs": [],
      "source": [
        "all_data.to_csv('all_data.csv', index=False)"
      ]
    },
    {
      "cell_type": "code",
      "execution_count": null,
      "metadata": {
        "colab": {
          "base_uri": "https://localhost:8080/",
          "height": 486
        },
        "id": "ysgQFc0IMoaG",
        "outputId": "1ed78235-3bee-444a-93b1-6dcbb1329837"
      },
      "outputs": [],
      "source": [
        "sellers_df.groupby(by=\"product_category_name_english\").agg({\n",
        "    \"order_id\": \"nunique\",\n",
        "    \"price\":  [\"min\", \"max\"]\n",
        "})"
      ]
    },
    {
      "cell_type": "markdown",
      "metadata": {
        "id": "R_-uuTIeMoaG"
      },
      "source": [
        "### Explore geo_df"
      ]
    },
    {
      "cell_type": "code",
      "execution_count": null,
      "metadata": {
        "colab": {
          "base_uri": "https://localhost:8080/",
          "height": 206
        },
        "id": "XuKl9U2XMoaX",
        "outputId": "8167792c-7c23-4060-c07a-9ba9a21565ff"
      },
      "outputs": [],
      "source": [
        "geo_df.sample(5)"
      ]
    },
    {
      "cell_type": "code",
      "execution_count": 783,
      "metadata": {
        "id": "vq2PLkVzMoaY"
      },
      "outputs": [],
      "source": [
        "def pretty_string(column):\n",
        "    column_space = ' '.join(column.split())\n",
        "    return unidecode.unidecode(column_space.lower())"
      ]
    },
    {
      "cell_type": "code",
      "execution_count": 784,
      "metadata": {
        "id": "N_GVti6BMoag"
      },
      "outputs": [],
      "source": [
        "geo_df['geolocation_city'] = geo_df['geolocation_city'].apply(pretty_string)"
      ]
    },
    {
      "cell_type": "code",
      "execution_count": null,
      "metadata": {
        "colab": {
          "base_uri": "https://localhost:8080/",
          "height": 490
        },
        "id": "TjWAd3D0Moah",
        "outputId": "bd2faf1f-9784-4bc8-f70d-b7bd28a99607"
      },
      "outputs": [],
      "source": [
        "geo_df.groupby('geolocation_zip_code_prefix').size().sort_values(ascending=False)"
      ]
    },
    {
      "cell_type": "code",
      "execution_count": null,
      "metadata": {
        "colab": {
          "base_uri": "https://localhost:8080/",
          "height": 206
        },
        "id": "rBIuTaMzMoai",
        "outputId": "ba43f01e-ada7-4034-954c-d16efbbd3e6e"
      },
      "outputs": [],
      "source": [
        "geo_df[geo_df['geolocation_zip_code_prefix'] == 24220].head()"
      ]
    },
    {
      "cell_type": "markdown",
      "metadata": {
        "id": "rH2V34AKMoaj"
      },
      "source": [
        "### Explore All Data\n",
        "#### Merge all data\n",
        "\n",
        "Pada kasus ini saya tidak menggabungkan dataset geolocation, karena menurut saya dataset ini tidak begitu diperlukan."
      ]
    },
    {
      "cell_type": "code",
      "execution_count": null,
      "metadata": {
        "colab": {
          "base_uri": "https://localhost:8080/",
          "height": 290
        },
        "id": "2lu2QHZfMoao",
        "outputId": "8acd9065-a7dc-487b-f74e-6070059fd2a0"
      },
      "outputs": [],
      "source": [
        "all_data = pd.merge(\n",
        "    left=customers_df,\n",
        "    right=sellers_df,\n",
        "    how=\"left\",\n",
        "    left_on=\"order_id\",\n",
        "    right_on=\"order_id\"\n",
        ")\n",
        "all_data.head()"
      ]
    },
    {
      "cell_type": "code",
      "execution_count": null,
      "metadata": {
        "colab": {
          "base_uri": "https://localhost:8080/"
        },
        "id": "4Le9d7cLMoao",
        "outputId": "38331890-ea40-48cd-85e7-9516a7ea51b1"
      },
      "outputs": [],
      "source": [
        "all_data.info()"
      ]
    },
    {
      "cell_type": "code",
      "execution_count": null,
      "metadata": {
        "colab": {
          "base_uri": "https://localhost:8080/",
          "height": 455
        },
        "id": "8A__2CpuMoap",
        "outputId": "464adcd4-0308-44fd-c6e3-cf738e313bb7"
      },
      "outputs": [],
      "source": [
        "all_data.groupby(by=[\"customer_city\", \"product_category_name_english\"]).agg({\n",
        "    \"price\": \"sum\",\n",
        "    \"freight_value\": \"sum\"\n",
        "})"
      ]
    },
    {
      "cell_type": "code",
      "execution_count": null,
      "metadata": {
        "colab": {
          "base_uri": "https://localhost:8080/",
          "height": 455
        },
        "id": "nVh16A6TMoau",
        "outputId": "1bab7e18-17ed-4272-e521-50fdfefe5caa"
      },
      "outputs": [],
      "source": [
        "all_data.groupby(by=[\"customer_state\", \"product_category_name_english\"]).agg({\n",
        "    \"price\": \"sum\",\n",
        "    \"freight_value\": \"sum\"\n",
        "})"
      ]
    },
    {
      "cell_type": "code",
      "execution_count": null,
      "metadata": {
        "colab": {
          "base_uri": "https://localhost:8080/",
          "height": 927
        },
        "id": "br_NXipZMoav",
        "outputId": "f00c9d0f-1186-4c84-cf93-ab180966ef1a"
      },
      "outputs": [],
      "source": [
        "all_data.groupby(by=\"customer_state\").agg({\n",
        "    \"order_id\": \"nunique\",\n",
        "    \"payment_value\": \"sum\"\n",
        "}).sort_values(by=\"payment_value\", ascending=False)"
      ]
    },
    {
      "cell_type": "code",
      "execution_count": null,
      "metadata": {
        "colab": {
          "base_uri": "https://localhost:8080/",
          "height": 486
        },
        "id": "3lLJZszyMoav",
        "outputId": "2df01e33-8f1d-4ec5-d4d5-9a444bda33e7"
      },
      "outputs": [],
      "source": [
        "all_data.groupby(by=\"product_category_name_english\").agg({\n",
        "    \"order_id\": \"nunique\",\n",
        "    \"review_score\":  [\"min\", \"max\"]\n",
        "})"
      ]
    },
    {
      "cell_type": "markdown",
      "metadata": {
        "id": "qpgq7wXzMoaz"
      },
      "source": [
        "### Convert all_data to .csv"
      ]
    },
    {
      "cell_type": "markdown",
      "metadata": {
        "id": "UaJVptS2Moa1"
      },
      "source": [
        "## Visualization & Explanatory Analysis"
      ]
    },
    {
      "cell_type": "markdown",
      "metadata": {
        "id": "rW6QyCDMMoa1"
      },
      "source": [
        "### Pertanyaan 1 : Produk Apa Saja yang Memiliki Pertumbuhan Penjualan Terbanyak?"
      ]
    },
    {
      "cell_type": "code",
      "execution_count": 794,
      "metadata": {
        "id": "K800fMtjMoa2"
      },
      "outputs": [],
      "source": [
        "sum_order_items_df = all_data.groupby(\"product_category_name_english\")[\"product_id\"].count().reset_index()\n",
        "sum_order_items_df = sum_order_items_df.rename(columns={\"product_id\": \"products\"})\n",
        "sum_order_items_df = sum_order_items_df.sort_values(by=\"products\", ascending=False)\n",
        "sum_order_items_df = sum_order_items_df.head(10)  # Get top 10 categories"
      ]
    },
    {
      "cell_type": "code",
      "execution_count": null,
      "metadata": {
        "colab": {
          "base_uri": "https://localhost:8080/",
          "height": 752
        },
        "id": "nD11vuaxMoa3",
        "outputId": "f47edc11-2624-47d9-e40e-1f14e13171f0"
      },
      "outputs": [],
      "source": [
        "plt.figure(figsize=(12, 6))\n",
        "colors = sns.color_palette(\"viridis\", n_colors=5)  # Using a different color palette\n",
        "\n",
        "# Create a barplot for the top-selling products\n",
        "sns.barplot(x=\"products\", y=\"product_category_name_english\", data=sum_order_items_df.head(5), palette=colors)\n",
        "plt.xlabel(\"Number of Products Sold\", fontsize=14)\n",
        "plt.ylabel(\"Product Category\", fontsize=14)\n",
        "plt.title(\"Top 5 Products Sold\", loc=\"center\", fontsize=18)\n",
        "plt.tick_params(axis='y', labelsize=12)\n",
        "plt.show()"
      ]
    },
    {
      "cell_type": "markdown",
      "metadata": {
        "id": "qrnjDuWvMobD"
      },
      "source": [
        "> Produk yang paling banya terjual adalah bed_bath_table."
      ]
    },
    {
      "cell_type": "markdown",
      "metadata": {
        "id": "4ZoM1HkwMobE"
      },
      "source": [
        "### Pertanyaan 2 : Bagaimana performa penjualan pada platform E-Commerce ?"
      ]
    },
    {
      "cell_type": "code",
      "execution_count": null,
      "metadata": {
        "colab": {
          "base_uri": "https://localhost:8080/"
        },
        "id": "CRqKsDtKMobF",
        "outputId": "622201da-ea34-4a90-9acf-67b731dd2093"
      },
      "outputs": [],
      "source": [
        "import pandas as pd\n",
        "\n",
        "# Display the columns to find 'order_approved_at'\n",
        "print(\"Columns in all_data:\", all_data.columns.tolist())\n",
        "\n",
        "# If necessary, strip whitespace from column names\n",
        "all_data.columns = all_data.columns.str.strip()\n",
        "\n",
        "# Display the first few rows to check the data\n",
        "print(all_data.head())\n",
        "\n",
        "# Convert 'order_approved_at' to datetime if it exists\n",
        "if 'order_approved_at' in all_data.columns:\n",
        "    all_data['order_approved_at'] = pd.to_datetime(all_data['order_approved_at'], errors='coerce')\n",
        "\n",
        "    # Check for NaT values\n",
        "    print(\"Number of NaT values in 'order_approved_at':\", all_data['order_approved_at'].isna().sum())\n",
        "\n",
        "    # Resample the data by month\n",
        "    monthly_df = all_data.resample(rule='M', on='order_approved_at').agg({\n",
        "        \"order_id\": \"nunique\",\n",
        "    })\n",
        "\n",
        "    # Change the index format to Year-Month\n",
        "    monthly_df.index = monthly_df.index.strftime('%B')\n",
        "    monthly_df = monthly_df.reset_index()\n",
        "\n",
        "    # Rename the columns for clarity\n",
        "    monthly_df.rename(columns={\n",
        "        \"order_id\": \"order_count\",\n",
        "    }, inplace=True)\n",
        "\n",
        "    # Display the result\n",
        "    print(monthly_df.head())\n",
        "else:\n",
        "    print(\"'order_approved_at' does not exist in the DataFrame.\")\n"
      ]
    },
    {
      "cell_type": "code",
      "execution_count": 797,
      "metadata": {
        "id": "x00ybZqiMobG"
      },
      "outputs": [],
      "source": [
        "monthly_df = monthly_df.sort_values('order_count').drop_duplicates('order_approved_at', keep='last').reset_index(drop=True)"
      ]
    },
    {
      "cell_type": "code",
      "execution_count": null,
      "metadata": {
        "colab": {
          "base_uri": "https://localhost:8080/",
          "height": 426
        },
        "id": "c4tRKDYqUd4b",
        "outputId": "b1b5e5ba-172f-48a2-a2bd-b3f4dc00ffe5"
      },
      "outputs": [],
      "source": [
        "monthly_df.head()\n",
        "\n",
        "monthly_df.sort_values(by='order_count')"
      ]
    },
    {
      "cell_type": "code",
      "execution_count": 799,
      "metadata": {
        "id": "9lgP1NdEMobY"
      },
      "outputs": [],
      "source": [
        "month_mapping = {\n",
        "    \"January\": 1,\n",
        "    \"February\": 2,\n",
        "    \"March\": 3,\n",
        "    \"April\": 4,\n",
        "    \"May\": 5,\n",
        "    \"June\": 6,\n",
        "    \"July\": 7,\n",
        "    \"August\": 8,\n",
        "    \"September\": 9,\n",
        "    \"October\": 10,\n",
        "    \"November\": 11,\n",
        "    \"December\": 12\n",
        "}\n",
        "\n",
        "monthly_df[\"month_numeric\"] = monthly_df[\"order_approved_at\"].map(month_mapping)\n",
        "monthly_df = monthly_df.sort_values(\"month_numeric\")\n",
        "monthly_df = monthly_df.drop(\"month_numeric\", axis=1)"
      ]
    },
    {
      "cell_type": "code",
      "execution_count": null,
      "metadata": {
        "colab": {
          "base_uri": "https://localhost:8080/",
          "height": 534
        },
        "id": "6b3OjZA6Moba",
        "outputId": "2943904c-f03c-4971-abfb-211b8c94d22b"
      },
      "outputs": [],
      "source": [
        "plt.figure(figsize=(10, 5))\n",
        "sns.barplot(\n",
        "    x=monthly_df[\"order_approved_at\"],\n",
        "    y=monthly_df[\"order_count\"],\n",
        "    color=\"#068DA9\"\n",
        ")\n",
        "plt.title(\"Number of Orders per Month (2018)\", loc=\"center\", fontsize=20)\n",
        "plt.xticks(fontsize=10, rotation=25)\n",
        "plt.yticks(fontsize=10)\n",
        "plt.xlabel(\"Month\", fontsize=12)\n",
        "plt.ylabel(\"Number of Orders\", fontsize=12)\n",
        "plt.show()\n"
      ]
    },
    {
      "cell_type": "markdown",
      "metadata": {
        "id": "t0xRmTdnMobc"
      },
      "source": [
        "Terlihat bahwa terjadi penurunan pada bulan September dan Oktober.Mengalami kenaikan pada bulan November."
      ]
    },
    {
      "cell_type": "markdown",
      "metadata": {
        "id": "tefci2I5Mobc"
      },
      "source": [
        "### Pertanyaan 3 : Apakah ada tren penjualan yang lebih tinggi pada hari tertentu atau waktu tertentu?"
      ]
    },
    {
      "cell_type": "code",
      "execution_count": 801,
      "metadata": {
        "id": "f2vSm7GFMobd"
      },
      "outputs": [],
      "source": [
        "# Convert 'order_approved_at' to datetime if not already in that format\n",
        "all_data['order_approved_at'] = pd.to_datetime(all_data['order_approved_at'])\n",
        "\n",
        "# Extract day of the week and hour\n",
        "all_data['day_of_week'] = all_data['order_approved_at'].dt.day_name()\n",
        "all_data['hour_of_day'] = all_data['order_approved_at'].dt.hour\n",
        "\n",
        "# Count the number of orders by day of the week\n",
        "daily_sales = all_data.groupby('day_of_week')['order_id'].count().reset_index()\n",
        "daily_sales = daily_sales.rename(columns={\"order_id\": \"total_orders\"})\n",
        "daily_sales = daily_sales[['day_of_week', 'total_orders']]\n",
        "\n",
        "# Count the number of orders by hour of the day\n",
        "hourly_sales = all_data.groupby('hour_of_day')['order_id'].count().reset_index()\n",
        "hourly_sales = hourly_sales.rename(columns={\"order_id\": \"total_orders\"})\n",
        "hourly_sales = hourly_sales[['hour_of_day', 'total_orders']]\n"
      ]
    },
    {
      "cell_type": "code",
      "execution_count": 802,
      "metadata": {
        "id": "_1uylycLMobm"
      },
      "outputs": [],
      "source": [
        "monthly_spend_df = monthly_spend_df.sort_values('total_spend').drop_duplicates('order_approved_at', keep='last')"
      ]
    },
    {
      "cell_type": "code",
      "execution_count": null,
      "metadata": {
        "colab": {
          "base_uri": "https://localhost:8080/",
          "height": 206
        },
        "id": "ReOBZ3PuMobo",
        "outputId": "3a63546b-5811-4c7d-f831-8ae0c7a65c81"
      },
      "outputs": [],
      "source": [
        "monthly_spend_df.head()"
      ]
    },
    {
      "cell_type": "code",
      "execution_count": null,
      "metadata": {
        "colab": {
          "base_uri": "https://localhost:8080/",
          "height": 913
        },
        "id": "WFQe-wTkMobq",
        "outputId": "e1455aca-68fb-414b-abf4-3c369d3ab59c"
      },
      "outputs": [],
      "source": [
        "# Sort days of the week for better visualization\n",
        "days_order = ['Monday', 'Tuesday', 'Wednesday', 'Thursday', 'Friday', 'Saturday', 'Sunday']\n",
        "daily_sales['day_of_week'] = pd.Categorical(daily_sales['day_of_week'], categories=days_order, ordered=True)\n",
        "daily_sales = daily_sales.sort_values('day_of_week')\n",
        "\n",
        "plt.figure(figsize=(10, 5))\n",
        "sns.barplot(x='day_of_week', y='total_orders', data=daily_sales, palette='viridis')\n",
        "plt.title('Total Orders by Day of the Week', fontsize=20)\n",
        "plt.xlabel('Day of the Week', fontsize=14)\n",
        "plt.ylabel('Total Orders', fontsize=14)\n",
        "plt.xticks(rotation=45)\n",
        "plt.show()\n"
      ]
    },
    {
      "cell_type": "markdown",
      "metadata": {
        "id": "2D1YTkr2YNLv"
      },
      "source": [
        "Dari Grafik Hari Selasa menjadi puncak pemesanan dengan total > 20000 pemesanan"
      ]
    },
    {
      "cell_type": "code",
      "execution_count": null,
      "metadata": {
        "colab": {
          "base_uri": "https://localhost:8080/",
          "height": 1000
        },
        "id": "nh8dKnNXMobr",
        "outputId": "bcc995e3-f7ac-49e1-fee1-a82b59c6357c"
      },
      "outputs": [],
      "source": [
        "plt.figure(figsize=(10, 5))\n",
        "sns.barplot(x='hour_of_day', y='total_orders', data=hourly_sales, palette='viridis')\n",
        "plt.title('Total Orders by Hour of the Day', fontsize=20)\n",
        "plt.xlabel('Hour of the Day', fontsize=14)\n",
        "plt.ylabel('Total Orders', fontsize=14)\n",
        "plt.xticks(rotation=45)\n",
        "plt.show()\n"
      ]
    },
    {
      "cell_type": "markdown",
      "metadata": {
        "id": "oxguphcrY1wj"
      },
      "source": [
        "Dari Grafik dapat dilihat bahwa pada jam 2 pagi menjadi waktu pemesanan tertinggi"
      ]
    },
    {
      "cell_type": "markdown",
      "metadata": {
        "id": "zLJerg3sMocG"
      },
      "source": [
        "### Pertanyaan 4 : Dimana letak geografis yang memiliki customer terbanyak?"
      ]
    },
    {
      "cell_type": "code",
      "execution_count": 806,
      "metadata": {
        "id": "XCC-6aSmMocH"
      },
      "outputs": [],
      "source": [
        "other_state_geolocation = geo_df.groupby(['geolocation_zip_code_prefix'])['geolocation_state'].nunique().reset_index(name='count')\n",
        "other_state_geolocation[other_state_geolocation['count']>= 2].shape\n",
        "max_state = geo_df.groupby(['geolocation_zip_code_prefix','geolocation_state']).size().reset_index(name='count').drop_duplicates(subset = 'geolocation_zip_code_prefix').drop('count',axis=1)"
      ]
    },
    {
      "cell_type": "code",
      "execution_count": 807,
      "metadata": {
        "id": "8bSHoInhMocI"
      },
      "outputs": [],
      "source": [
        "geolocation_silver = geo_df.groupby(['geolocation_zip_code_prefix','geolocation_city','geolocation_state'])[['geolocation_lat','geolocation_lng']].median().reset_index()\n",
        "geolocation_silver = geolocation_silver.merge(max_state,on=['geolocation_zip_code_prefix','geolocation_state'],how='inner')"
      ]
    },
    {
      "cell_type": "code",
      "execution_count": 808,
      "metadata": {
        "id": "aGWAH4gHMocI"
      },
      "outputs": [],
      "source": [
        "customers_silver = customers_df.merge(geolocation_silver,left_on='customer_zip_code_prefix',right_on='geolocation_zip_code_prefix',how='inner')"
      ]
    },
    {
      "cell_type": "code",
      "execution_count": null,
      "metadata": {
        "colab": {
          "base_uri": "https://localhost:8080/",
          "height": 308
        },
        "id": "WtfB8FaUMocJ",
        "outputId": "f13bbca8-4f8e-411d-d74d-a43cca7d272d"
      },
      "outputs": [],
      "source": [
        "customers_silver.head()"
      ]
    },
    {
      "cell_type": "code",
      "execution_count": 810,
      "metadata": {
        "id": "Kzytaxw5MocJ"
      },
      "outputs": [],
      "source": [
        "customers_silver.to_csv(\"geolocation.csv\", index=False)"
      ]
    },
    {
      "cell_type": "code",
      "execution_count": null,
      "metadata": {
        "colab": {
          "base_uri": "https://localhost:8080/",
          "height": 807
        },
        "id": "Ua5CCQLKMocK",
        "outputId": "320d22e8-12cd-4a3f-d8a7-451246819d2c"
      },
      "outputs": [],
      "source": [
        "import pandas as pd\n",
        "import matplotlib.pyplot as plt\n",
        "import seaborn as sns\n",
        "import urllib.request\n",
        "import matplotlib.image as mpimg\n",
        "\n",
        "def plot_brazil_map(data):\n",
        "    # Load the map image\n",
        "    brazil = mpimg.imread(urllib.request.urlopen('https://i.pinimg.com/originals/3a/0c/e1/3a0ce18b3c842748c255bc0aa445ad41.jpg'),'jpg')\n",
        "\n",
        "    # Set the figure size\n",
        "    plt.figure(figsize=(10, 10))\n",
        "\n",
        "    # Set the bounds for the map\n",
        "    extent = [-73.98283055, -33.8, -33.75116944, 5.4]\n",
        "\n",
        "    # Create the heatmap using seaborn\n",
        "    heatmap_data = data[['geolocation_lat', 'geolocation_lng']]\n",
        "\n",
        "    # Plotting the heatmap\n",
        "    ax = plt.gca()  # Get the current axis\n",
        "    sns.kdeplot(data=heatmap_data, x='geolocation_lng', y='geolocation_lat', fill=True, cmap='Reds', alpha=0.5, thresh=0, ax=ax)\n",
        "\n",
        "    # Display the base map\n",
        "    plt.imshow(brazil, extent=extent, aspect='auto')\n",
        "\n",
        "    # Set the limits to match the extent of the map image\n",
        "    plt.xlim(extent[0], extent[1])\n",
        "    plt.ylim(extent[2], extent[3])\n",
        "\n",
        "    # Remove axis\n",
        "    plt.axis('off')\n",
        "    plt.show()\n",
        "\n",
        "# Plotting the heatmap with unique customer data\n",
        "plot_brazil_map(customers_silver.drop_duplicates(subset='customer_unique_id'))\n"
      ]
    },
    {
      "cell_type": "markdown",
      "metadata": {
        "id": "KXk4y6aHMocX"
      },
      "source": [
        "Banyak customer yang berasalah negara bagian tenggara dan selatan."
      ]
    },
    {
      "cell_type": "markdown",
      "metadata": {
        "id": "XGDK2FLlMocY"
      },
      "source": [
        "## Conclusion"
      ]
    },
    {
      "cell_type": "markdown",
      "metadata": {
        "id": "HJv6IcZ4MocY"
      },
      "source": [
        "- Produk Apa Saja yang Memiliki Pertumbuhan Penjualan Tercepat?\n",
        "> Hasil analisis menunjukkan bahwa produk dengan pertumbuhan penjualan tercepat adalah bed_bath_table. Meskipun terjadi penurunan pada bulan September dan Oktober, penjualan produk ini kembali meningkat secara signifikan pada bulan November.\n",
        "\n",
        "- Bagaimana performa penjualan pada platform E-Commerce?\n",
        "> Performa penjualan di platform E-Commerce menunjukkan fluktuasi yang konsisten. Dari Januari hingga Agustus, penjualan relatif stabil, dengan penurunan yang signifikan pada bulan September dan Oktober, diikuti oleh kenaikan tajam pada bulan November. Penurunan kembali terlihat pada bulan Desember.\n",
        "\n",
        "- Apakah ada tren penjualan yang lebih tinggi pada hari tertentu atau waktu tertentu?\n",
        "> Analisis terhadap data penjualan berdasarkan hari dan waktu menunjukkan bahwa hari Selasa menjadi puncak pemesanan, dengan total lebih dari 20.000 pesanan. Dari sisi waktu, jam 2 pagi merupakan waktu paling populer bagi pelanggan untuk melakukan pemesanan, yang menunjukkan kecenderungan aktivitas pembelian di luar jam kerja.\n",
        "\n",
        "- Di mana lokasi geografis dengan jumlah pelanggan terbanyak?\n",
        "> Berdasarkan visualisasi data geografis, mayoritas pelanggan berasal dari wilayah tenggara dan selatan Brasil. Kota-kota besar seperti São Paulo, Rio de Janeiro, dan Porto Alegre mencatat jumlah pelanggan tertinggi, menunjukkan bahwa wilayah perkotaan merupakan pusat utama aktivitas E-Commerce di negara ini"
      ]
    }
  ],
  "metadata": {
    "colab": {
      "provenance": []
    },
    "kernelspec": {
      "display_name": "Python 3",
      "name": "python3"
    },
    "language_info": {
      "name": "python",
      "version": "3.11.8"
    }
  },
  "nbformat": 4,
  "nbformat_minor": 0
}
